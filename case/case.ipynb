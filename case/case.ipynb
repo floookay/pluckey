{
 "cells": [
  {
   "cell_type": "code",
   "execution_count": 1,
   "metadata": {},
   "outputs": [],
   "source": [
    "import math\n",
    "\n",
    "from solid import *\n",
    "from solid.utils import *\n",
    "\n",
    "from subprocess import run\n",
    "\n",
    "import viewscad\n",
    "r = viewscad.Renderer()"
   ]
  },
  {
   "cell_type": "code",
   "execution_count": 2,
   "metadata": {},
   "outputs": [
    {
     "name": "stdout",
     "output_type": "stream",
     "text": [
      "/home/flo/.local/lib/python3.9/site-packages/solid/examples\n"
     ]
    }
   ],
   "source": [
    "import os, solid; print(os.path.dirname(solid.__file__) + '/examples')"
   ]
  },
  {
   "cell_type": "code",
   "execution_count": 3,
   "metadata": {},
   "outputs": [
    {
     "data": {
      "application/vnd.jupyter.widget-view+json": {
       "model_id": "89c7ef2eb18340e9a525a7590423d064",
       "version_major": 2,
       "version_minor": 0
      },
      "text/plain": [
       "VBox(children=(HTML(value=''), Renderer(background='#cccc88', background_opacity=0.0, camera=PerspectiveCamera…"
      ]
     },
     "metadata": {},
     "output_type": "display_data"
    }
   ],
   "source": [
    "d = cube([7,4,4]) + sphere(5) - cylinder(r=2, h=6)\n",
    "r.render(d)"
   ]
  },
  {
   "cell_type": "code",
   "execution_count": 4,
   "metadata": {},
   "outputs": [],
   "source": [
    "# CONFIGURATION\n",
    "GENERATE_WITH_KEYCAPS = False\n",
    "HOLE_HEIGHT_TOLERANCE = 0.2 # 0 gives weird viewing glitches"
   ]
  },
  {
   "cell_type": "code",
   "execution_count": 5,
   "metadata": {},
   "outputs": [
    {
     "data": {
      "application/vnd.jupyter.widget-view+json": {
       "model_id": "66aadc13c9894b428568c46d0bf18ad0",
       "version_major": 2,
       "version_minor": 0
      },
      "text/plain": [
       "VBox(children=(HTML(value=''), Renderer(background='#cccc88', background_opacity=0.0, camera=PerspectiveCamera…"
      ]
     },
     "metadata": {},
     "output_type": "display_data"
    }
   ],
   "source": [
    "KEYCAP_SIZE = 18\n",
    "KEYCAP_HEIGHT = 9\n",
    "KEYCAP_Z_OFFSET = 6.6\n",
    "\n",
    "PLATE_GRID = 19.05\n",
    "PLATE_HOLE = 14\n",
    "PLATE_THICKNESS = 4\n",
    "# PLATE_SPACER = SWITCH_GRID - PLATE_HOLE  # = 5.05mm\n",
    "\n",
    "def plate_cutout(units_x=1, units_y=1, withCap=False, center=True):\n",
    "    offset = units_x - 1;\n",
    "    plate = cube([PLATE_GRID*units_x,PLATE_GRID*units_y,PLATE_THICKNESS], center=True)\n",
    "    hole = cube([PLATE_HOLE,PLATE_HOLE,PLATE_THICKNESS+HOLE_HEIGHT_TOLERANCE], center=True)\n",
    "    cutout = plate - hole\n",
    "    \n",
    "    # TODO: if units_x or units_y >= 2: add stab holes\n",
    "\n",
    "    if(withCap):\n",
    "        cap = color([0.0,1.0,0.5])(cube([KEYCAP_SIZE*units_x,KEYCAP_SIZE*units_y,KEYCAP_HEIGHT], center=True))\n",
    "        cap = up(PLATE_THICKNESS/2 + KEYCAP_HEIGHT/2 + KEYCAP_Z_OFFSET)(cap)\n",
    "        cutout += cap\n",
    "    \n",
    "    if(center == False):\n",
    "        cutout = left(units_x*PLATE_GRID/2)(back(units_y*PLATE_GRID/2)(cutout))\n",
    "    \n",
    "    return cutout\n",
    "\n",
    "r.render(plate_cutout(units_x=1, units_y=2, withCap=True, center=False))"
   ]
  },
  {
   "cell_type": "code",
   "execution_count": 6,
   "metadata": {},
   "outputs": [
    {
     "data": {
      "application/vnd.jupyter.widget-view+json": {
       "model_id": "e41d07c36c70429a9f78806eab3f31ff",
       "version_major": 2,
       "version_minor": 0
      },
      "text/plain": [
       "VBox(children=(HTML(value=''), Renderer(background='#cccc88', background_opacity=0.0, camera=PerspectiveCamera…"
      ]
     },
     "metadata": {},
     "output_type": "display_data"
    }
   ],
   "source": [
    "# keys[units_y], units_x\n",
    "def plate_column(keys=[1,1,1,1], units_x=1):\n",
    "    i,offset,column = 0,0,cube(0)\n",
    "    while(i<len(keys)):\n",
    "        units_y = keys[i]\n",
    "        cutout = plate_cutout(units_x=units_x, units_y=units_y, withCap=GENERATE_WITH_KEYCAPS)\n",
    "        cur_offset = (units_y-1)/2\n",
    "        column += forward(PLATE_GRID*(offset + cur_offset))(cutout)\n",
    "        offset += ((units_y+1)/2) + cur_offset\n",
    "        i += 1\n",
    "    \n",
    "    return column\n",
    "        \n",
    "r.render(plate_column(keys=[1,1,2,1], units_x=1.5))"
   ]
  },
  {
   "cell_type": "code",
   "execution_count": 7,
   "metadata": {},
   "outputs": [
    {
     "data": {
      "application/vnd.jupyter.widget-view+json": {
       "model_id": "56635e508e0a422183cdcc6c9d25ce7e",
       "version_major": 2,
       "version_minor": 0
      },
      "text/plain": [
       "VBox(children=(HTML(value=''), Renderer(background='#cccc88', background_opacity=0.0, camera=PerspectiveCamera…"
      ]
     },
     "metadata": {},
     "output_type": "display_data"
    }
   ],
   "source": [
    "# [column[keys[],units,y_offset_units]]\n",
    "# keep the y_offset_units in multiple or halfs of 1u -> for easier alignment in KiCAD later\n",
    "\n",
    "def plate(layout):\n",
    "    i,offset,plate = 0,0,cube(0)\n",
    "    while(i<len(layout)):\n",
    "        column_specs = layout[i]\n",
    "        column = plate_column(keys=column_specs[0],units_x=column_specs[1])\n",
    "        cur_offset = (column_specs[1]-1)/2\n",
    "        plate += right(PLATE_GRID*(offset+cur_offset))(forward(PLATE_GRID*column_specs[2])(column))\n",
    "        offset += ((column_specs[1]+1)/2) + cur_offset\n",
    "        i += 1\n",
    "    return forward(PLATE_GRID/2)(right(PLATE_GRID/2)(plate)) # there has to be an error somewhere with the offsets…\n",
    "    \n",
    "\n",
    "r.render(plate([[[1,1,1.5,1],1.5,0],[[1,1,1,1.5],1,0.5],[[1,1,1,1,2],2,-0.5],[[1,2,1],1,0]]))"
   ]
  },
  {
   "cell_type": "code",
   "execution_count": 12,
   "metadata": {},
   "outputs": [
    {
     "data": {
      "application/vnd.jupyter.widget-view+json": {
       "model_id": "aa27781277c845539560bab092b0e2fd",
       "version_major": 2,
       "version_minor": 0
      },
      "text/plain": [
       "VBox(children=(HTML(value=''), Renderer(background='#cccc88', background_opacity=0.0, camera=PerspectiveCamera…"
      ]
     },
     "metadata": {},
     "output_type": "display_data"
    }
   ],
   "source": [
    "C4 = [1,1,1,1]\n",
    "C5 = [1,1,1,1,1]\n",
    "C3_vert = [1.5,1.5,1]\n",
    "layout = [[C4,1.5,0],[C4,1,0],[C5,1,-0.5],[C5,1,-0.375],[C5,1,-0.5],[C4,1,0.25],[C3_vert,1,0.25]]\n",
    "\n",
    "myPlate = plate(layout)\n",
    "\n",
    "space_angle = 12 # TODO den nicesten Winkel finden ( ͡° ͜ʖ ͡°)\n",
    "space_units = 1.5\n",
    "space_offset_columns = 5\n",
    "\n",
    "space = plate_cutout(units_x=space_units, center=False)\n",
    "space = right(PLATE_GRID*space_units)(space) # set anchor on top right edge\n",
    "\n",
    "if(space_angle >= 45):\n",
    "    adjacent = math.cos(math.radians(90-space_angle))*PLATE_GRID\n",
    "    opposite = math.sin(math.radians(90-space_angle))*PLATE_GRID\n",
    "else:\n",
    "    adjacent = 0.75*PLATE_GRID/math.tan(math.radians(90-space_angle))\n",
    "    opposite = 0.75*PLATE_GRID\n",
    "\n",
    "filler_points = [\n",
    "    [0,0,-PLATE_THICKNESS/2],\n",
    "    [adjacent,0,-PLATE_THICKNESS/2],\n",
    "    [0,-opposite,-PLATE_THICKNESS/2],\n",
    "    [0,0,PLATE_THICKNESS/2],\n",
    "    [adjacent,0,PLATE_THICKNESS/2],\n",
    "    [0,-opposite,PLATE_THICKNESS/2]\n",
    "]\n",
    "filler_faces = [[0,1,2],[0,1,3,4],[1,2,4,5],[2,0,5,3],[5,4,3]] # do I need hidden faces for the slicer?\n",
    "filler = polyhedron(points=filler_points,faces=filler_faces,convexity=5)\n",
    "\n",
    "space = rotate(a=space_angle, v=DOWN_VEC)(space) # rotate\n",
    "\n",
    "i,space_offset_x,space_offset_y = 0,0,layout[space_offset_columns][2]\n",
    "while i<space_offset_columns:\n",
    "    space_offset_x += layout[i][1]\n",
    "    i += 1\n",
    "# place in the edge\n",
    "space = right(space_offset_x*PLATE_GRID + adjacent)(forward(space_offset_y*PLATE_GRID)(space))\n",
    "filler = right(space_offset_x*PLATE_GRID)(forward(space_offset_y*PLATE_GRID)(filler))\n",
    "\n",
    "myPlate += filler\n",
    "myPlate += space\n",
    "\n",
    "r.render(myPlate)"
   ]
  },
  {
   "cell_type": "code",
   "execution_count": 9,
   "metadata": {},
   "outputs": [
    {
     "data": {
      "image/png": "\n",
      "text/plain": [
       "<solid.objects.projection at 0x7f744ab39fd0>"
      ]
     },
     "execution_count": 9,
     "metadata": {},
     "output_type": "execute_result"
    }
   ],
   "source": [
    " projection(d) # muss ich vlt doch in openscad machen"
   ]
  },
  {
   "cell_type": "code",
   "execution_count": 10,
   "metadata": {},
   "outputs": [
    {
     "data": {
      "text/plain": [
       "CompletedProcess(args=['openscad', '-o', 'plate.stl', 'plate.scad'], returncode=0)"
      ]
     },
     "execution_count": 10,
     "metadata": {},
     "output_type": "execute_result"
    }
   ],
   "source": [
    "# generate valid openscad code and store it in file\n",
    "scad_render_to_file(myPlate, 'plate.scad')\n",
    "\n",
    "# run openscad and export to stl\n",
    "run([\"openscad\", \"-o\",  \"plate.stl\", \"plate.scad\"])"
   ]
  },
  {
   "cell_type": "code",
   "execution_count": null,
   "metadata": {},
   "outputs": [],
   "source": []
  }
 ],
 "metadata": {
  "kernelspec": {
   "display_name": "Python 3",
   "language": "python",
   "name": "python3"
  },
  "language_info": {
   "codemirror_mode": {
    "name": "ipython",
    "version": 3
   },
   "file_extension": ".py",
   "mimetype": "text/x-python",
   "name": "python",
   "nbconvert_exporter": "python",
   "pygments_lexer": "ipython3",
   "version": "3.9.2"
  }
 },
 "nbformat": 4,
 "nbformat_minor": 4
}
