{
 "cells": [
  {
   "cell_type": "code",
   "execution_count": 1,
   "metadata": {},
   "outputs": [],
   "source": [
    "import math\n",
    "\n",
    "from solid import *\n",
    "from solid.utils import *\n",
    "\n",
    "from subprocess import run\n",
    "\n",
    "import viewscad\n",
    "r = viewscad.Renderer()"
   ]
  },
  {
   "cell_type": "code",
   "execution_count": 2,
   "metadata": {},
   "outputs": [
    {
     "name": "stdout",
     "output_type": "stream",
     "text": [
      "/home/flo/.local/lib/python3.9/site-packages/solid/examples\n"
     ]
    }
   ],
   "source": [
    "import os, solid;\n",
    "print(os.path.dirname(solid.__file__) + '/examples')"
   ]
  },
  {
   "cell_type": "code",
   "execution_count": 3,
   "metadata": {},
   "outputs": [],
   "source": [
    "# CONFIGURATION\n",
    "GENERATE_WITH_KEYCAPS = True\n",
    "HOLE_HEIGHT_TOLERANCE = 0.2 # 0 gives weird viewing glitches"
   ]
  },
  {
   "cell_type": "code",
   "execution_count": 15,
   "metadata": {},
   "outputs": [
    {
     "data": {
      "application/vnd.jupyter.widget-view+json": {
       "model_id": "0b8e077383584747b7f0036585312bfd",
       "version_major": 2,
       "version_minor": 0
      },
      "text/plain": [
       "VBox(children=(HTML(value=''), Renderer(background='#cccc88', background_opacity=0.0, camera=PerspectiveCamera…"
      ]
     },
     "metadata": {},
     "output_type": "display_data"
    }
   ],
   "source": [
    "KEYCAP_SIZE = 18\n",
    "KEYCAP_HEIGHT = 9\n",
    "KEYCAP_Z_OFFSET = 6.6\n",
    "\n",
    "PLATE_GRID = 19.05\n",
    "PLATE_HOLE = 14\n",
    "PLATE_THICKNESS = 4\n",
    "# PLATE_SPACER = SWITCH_GRID - PLATE_HOLE  # = 5.05mm\n",
    "\n",
    "def plate_cutout(units_x=1, units_y=1, withCap=False, center=True):\n",
    "    plate = cube([PLATE_GRID*units_x,PLATE_GRID*units_y,PLATE_THICKNESS], center=True)\n",
    "    if units_x == 0 or units_y == 0:\n",
    "        if units_x == 0:\n",
    "            units_x = 1\n",
    "        if units_y == 0:\n",
    "            units_y = 1\n",
    "        cutout = cube(0)\n",
    "    else:\n",
    "        plate = cube([PLATE_GRID*units_x,PLATE_GRID*units_y,PLATE_THICKNESS], center=True)\n",
    "        hole = cube([PLATE_HOLE,PLATE_HOLE,PLATE_THICKNESS+HOLE_HEIGHT_TOLERANCE], center=True)\n",
    "        cutout = plate - hole\n",
    "    \n",
    "    # TODO: if units_x or units_y >= 2: add stab holes\n",
    "\n",
    "    if(withCap):\n",
    "        spacing = (PLATE_GRID - KEYCAP_SIZE)\n",
    "        cap = color([0.0,1.0,0.5])(cube([PLATE_GRID*units_x - spacing,PLATE_GRID*units_y - spacing,KEYCAP_HEIGHT], center=True))\n",
    "        cap = up(PLATE_THICKNESS/2 + KEYCAP_HEIGHT/2 + KEYCAP_Z_OFFSET)(cap)\n",
    "        cutout += cap\n",
    "    \n",
    "    if(center == False):\n",
    "        cutout = left(units_x*PLATE_GRID/2)(back(units_y*PLATE_GRID/2)(cutout))\n",
    "    \n",
    "    return cutout\n",
    "\n",
    "r.render(plate_cutout(units_x=1, units_y=2, withCap=True, center=False))"
   ]
  },
  {
   "cell_type": "code",
   "execution_count": 5,
   "metadata": {},
   "outputs": [
    {
     "data": {
      "application/vnd.jupyter.widget-view+json": {
       "model_id": "e302d387f8fe40c5bb2074f53fa1523a",
       "version_major": 2,
       "version_minor": 0
      },
      "text/plain": [
       "VBox(children=(HTML(value=''), Renderer(background='#cccc88', background_opacity=0.0, camera=PerspectiveCamera…"
      ]
     },
     "metadata": {},
     "output_type": "display_data"
    }
   ],
   "source": [
    "# keys[units_y], units_x\n",
    "def plate_column(keys=[1,1,1,1], units_x=1, center=True):\n",
    "    i,offset,column = 0,0,cube(0)\n",
    "    for units_y in keys:\n",
    "        cutout = plate_cutout(units_x=units_x, units_y=units_y, withCap=GENERATE_WITH_KEYCAPS)\n",
    "        if units_y == 0:\n",
    "            units_y = 1\n",
    "        cur_offset = units_y/2\n",
    "        column += forward(PLATE_GRID*(offset + cur_offset))(cutout)\n",
    "        offset += (units_y/2) + cur_offset\n",
    "        i += 1\n",
    "    if(center == False):\n",
    "        column = right(units_x*PLATE_GRID/2)(column)\n",
    "    return column\n",
    "        \n",
    "r.render(plate_column(keys=[2,0,2,1], units_x=1.5, center=False))"
   ]
  },
  {
   "cell_type": "code",
   "execution_count": 6,
   "metadata": {},
   "outputs": [
    {
     "data": {
      "application/vnd.jupyter.widget-view+json": {
       "model_id": "6d11cc5f11594ea1b3c849f24464863d",
       "version_major": 2,
       "version_minor": 0
      },
      "text/plain": [
       "VBox(children=(HTML(value=''), Renderer(background='#cccc88', background_opacity=0.0, camera=PerspectiveCamera…"
      ]
     },
     "metadata": {},
     "output_type": "display_data"
    }
   ],
   "source": [
    "# [column[keys[],units,y_offset_units]]\n",
    "# keep the y_offset_units in multiple or halfs of 1u -> for easier alignment in KiCAD later\n",
    "\n",
    "def plate(layout):\n",
    "    i,cur_offset,offset,plate = 0,0,0,cube(0)\n",
    "    while(i<len(layout)):\n",
    "        column_specs = layout[i]\n",
    "        column = plate_column(keys=column_specs[0],units_x=column_specs[1], center=True)\n",
    "        cur_offset = column_specs[1]/2\n",
    "        plate += right(PLATE_GRID*(offset+cur_offset))(forward(PLATE_GRID*column_specs[2])(column))\n",
    "        offset += column_specs[1]/2 + cur_offset\n",
    "        i += 1\n",
    "    return plate\n",
    "    \n",
    "\n",
    "r.render(plate([[[2,1,1.5,1],1.5,0],[[1,1,1,1.5],1,0.5],[[1,1,1,1,2],2,-0.5],[[1,2,1],1,0]]))"
   ]
  },
  {
   "cell_type": "code",
   "execution_count": 7,
   "metadata": {},
   "outputs": [
    {
     "data": {
      "application/vnd.jupyter.widget-view+json": {
       "model_id": "1b4a9a0170954b5c91b312c5b1890493",
       "version_major": 2,
       "version_minor": 0
      },
      "text/plain": [
       "VBox(children=(HTML(value=''), Renderer(background='#cccc88', background_opacity=0.0, camera=PerspectiveCamera…"
      ]
     },
     "metadata": {},
     "output_type": "display_data"
    }
   ],
   "source": [
    "C4 = [1,1,1,1]\n",
    "C5 = [1,1,1,1,1]\n",
    "C3_vert = [1.5,1.5,1]\n",
    "C2_OLED = [1,0,0,1]\n",
    "\n",
    "def myPlate(layout=[C4,1,0], space_angle_degrees=12, space_units=1.5, thumbcluster_keys=[1,1]):\n",
    "    myPlate = plate(layout)\n",
    "\n",
    "    space_angle = math.radians(space_angle_degrees) # TODO den nicesten Winkel finden ( ͡° ͜ʖ ͡°)\n",
    "\n",
    "    # predefined by my layout:\n",
    "    space_offset_columns = 5\n",
    "\n",
    "    space_offset_y = layout[space_offset_columns][2] - layout[space_offset_columns-1][2]\n",
    "    filler_faces = [[0,2,1],[0,1,4,3],[1,2,5,4],[2,0,3,5],[3,4,5]]\n",
    "\n",
    "    i,plate_x,space_offset_available = 0,0,0 # plate x axis length; amount of units left after the offset\n",
    "    while(i < len(layout)):\n",
    "        if i >= space_offset_columns:\n",
    "            space_offset_available += layout[i][1]\n",
    "        plate_x += layout[i][1]\n",
    "        i += 1\n",
    "    \n",
    "    space = plate_cutout(units_x=space_units, center=False, withCap=GENERATE_WITH_KEYCAPS)\n",
    "    space = right(PLATE_GRID*space_units)(space) # set anchor on top right edge\n",
    "    thumbcluster = plate_column(keys=thumbcluster_keys, units_x=1, center=False)\n",
    "\n",
    "    if(space_angle >= math.pi/4):\n",
    "        # idk why I calculated that one as well\n",
    "        adjacent = math.cos(math.pi/2-space_angle)*PLATE_GRID\n",
    "        opposite = math.sin(math.pi/2-space_angle)*PLATE_GRID\n",
    "        # this probably doesn't work as expected. I realised too late that this isn't even the angle I wanted\n",
    "        space_edge_y = opposite + space_units*PLATE_GRID/math.sin(space_angle)\n",
    "        space_edge_x = (space_edge_y-opposite)/math.tan(space_angle)\n",
    "    else:\n",
    "        # this is the working and tested version of this code\n",
    "        adjacent = space_offset_y*PLATE_GRID/math.tan(math.pi/2-space_angle)\n",
    "        opposite = space_offset_y*PLATE_GRID\n",
    "        hypotenuse =  math.hypot(adjacent, opposite)\n",
    "\n",
    "        opposite_offset = (PLATE_GRID-hypotenuse)/math.cos(space_angle)\n",
    "        adjacent_offset = (PLATE_GRID-hypotenuse)*math.sin(space_angle)\n",
    "\n",
    "        space_edge_y = opposite + opposite_offset + space_units*PLATE_GRID*math.sin(space_angle)\n",
    "        space_edge_x = space_units*PLATE_GRID*math.cos(space_angle) - adjacent_offset\n",
    "\n",
    "\n",
    "    # position the thumbcluster\n",
    "    angle_space_thumbcluster = math.atan((space_offset_available*PLATE_GRID - space_edge_x)/space_edge_y) - space_angle\n",
    "    if angle_space_thumbcluster < 0:\n",
    "        angle_space_thumbcluster = 0\n",
    "\n",
    "    mini_spacing = PLATE_GRID*math.tan(angle_space_thumbcluster) # parallel distance from the top right edge of the space key to the thumbcluster\n",
    "    mini_spacing_hypotenuse = PLATE_GRID/math.cos(angle_space_thumbcluster)\n",
    "    filler_points = [\n",
    "        [0,0,-PLATE_THICKNESS/2],\n",
    "        [mini_spacing,PLATE_GRID,-PLATE_THICKNESS/2],\n",
    "        [0,PLATE_GRID,-PLATE_THICKNESS/2],\n",
    "        [0,0,PLATE_THICKNESS/2],\n",
    "        [mini_spacing,PLATE_GRID,PLATE_THICKNESS/2],\n",
    "        [0,PLATE_GRID,PLATE_THICKNESS/2]\n",
    "    ]\n",
    "    filler = polyhedron(points=filler_points,faces=filler_faces,convexity=5) # between space and thumb keys\n",
    "    space += back(PLATE_GRID)(right(space_units*PLATE_GRID)(filler))\n",
    "\n",
    "    thumbcluster = rotate(a=math.degrees(angle_space_thumbcluster), v=DOWN_VEC)(thumbcluster) # rotate\n",
    "    thumbcluster = back(PLATE_GRID)(right(space_units*PLATE_GRID)(thumbcluster)) # move next to space\n",
    "    space += thumbcluster\n",
    "\n",
    "    filler_points = [\n",
    "        [0,0,-PLATE_THICKNESS/2],\n",
    "        [adjacent,0,-PLATE_THICKNESS/2],\n",
    "        [0,-opposite,-PLATE_THICKNESS/2],\n",
    "        [0,0,PLATE_THICKNESS/2],\n",
    "        [adjacent,0,PLATE_THICKNESS/2],\n",
    "        [0,-opposite,PLATE_THICKNESS/2]\n",
    "    ]\n",
    "    filler = polyhedron(points=filler_points,faces=filler_faces,convexity=5) # between space and column to the left\n",
    "\n",
    "    space = rotate(a=math.degrees(space_angle), v=DOWN_VEC)(space) # rotate\n",
    "\n",
    "    i,space_offset_x,space_offset_y = 0,0,layout[space_offset_columns][2]\n",
    "    while i<space_offset_columns:\n",
    "        space_offset_x += layout[i][1]\n",
    "        i += 1\n",
    "    \n",
    "    myPlate += right(space_offset_x*PLATE_GRID)(forward(space_offset_y*PLATE_GRID)(filler))\n",
    "    myPlate += right(space_offset_x*PLATE_GRID + adjacent)(forward(space_offset_y*PLATE_GRID)(space))\n",
    "\n",
    "    filler_x = (space_units*PLATE_GRID+mini_spacing)*math.cos(space_angle) + adjacent\n",
    "    filler_y = -(space_units*PLATE_GRID+mini_spacing)*math.sin(space_angle)\n",
    "    filler_points = [\n",
    "        [adjacent,0,-PLATE_THICKNESS/2],\n",
    "        [filler_x,filler_y,-PLATE_THICKNESS/2],\n",
    "        [space_offset_available*PLATE_GRID,0,-PLATE_THICKNESS/2],\n",
    "        [adjacent,0,PLATE_THICKNESS/2],\n",
    "        [filler_x,filler_y,PLATE_THICKNESS/2],\n",
    "        [space_offset_available*PLATE_GRID,0,PLATE_THICKNESS/2]\n",
    "    ]\n",
    "    mini_spacing2 = math.hypot(filler_x - space_offset_available*PLATE_GRID, filler_y - 0) # length of the opposite of the current filler\n",
    "    filler = polyhedron(points=filler_points,faces=filler_faces,convexity=5) # between space and the two columns above\n",
    "    myPlate += right(space_offset_x*PLATE_GRID)(forward(space_offset_y*PLATE_GRID)(filler))\n",
    "\n",
    "    # get size of thumb cluster\n",
    "    i,thumbcluster_length = 0,0\n",
    "    while(i < len(thumbcluster_keys)):\n",
    "        thumbcluster_length += thumbcluster_keys[i]*PLATE_GRID\n",
    "        i += 1\n",
    "    adjacent = thumbcluster_length - mini_spacing2 - mini_spacing_hypotenuse\n",
    "    filler_x = math.sin(space_angle + angle_space_thumbcluster)*adjacent # adjacent is the hypotenuse in this case\n",
    "    filler_y = math.cos(space_angle + angle_space_thumbcluster)*adjacent # adjacent is the hypotenuse in this case\n",
    "    hypotenuse = adjacent/math.cos(space_angle + angle_space_thumbcluster)\n",
    "    filler_points = [\n",
    "        [0,0,-PLATE_THICKNESS/2],\n",
    "        [filler_x,filler_y,-PLATE_THICKNESS/2],\n",
    "        [0,hypotenuse,-PLATE_THICKNESS/2],\n",
    "        [0,0,PLATE_THICKNESS/2],\n",
    "        [filler_x,filler_y,PLATE_THICKNESS/2],\n",
    "        [0,hypotenuse,PLATE_THICKNESS/2],\n",
    "    ]\n",
    "    filler = polyhedron(points=filler_points,faces=filler_faces,convexity=5) # between thumb keys and the grid column to the left\n",
    "    myPlate += right(plate_x*PLATE_GRID)(forward(space_offset_y*PLATE_GRID)(filler))\n",
    "    \n",
    "    return myPlate\n",
    "\n",
    "r.render(myPlate(\n",
    "    layout=[[C4,1.5,0],[C4,1,0],[C5,1,-0.5],[C5,1,-0.375],[C5,1,-0.5],[C4,1,0.25],[C3_vert,1,0.25]],\n",
    "    space_angle_degrees=12,\n",
    "    space_units=1.5\n",
    "))"
   ]
  },
  {
   "cell_type": "code",
   "execution_count": 16,
   "metadata": {},
   "outputs": [
    {
     "data": {
      "application/vnd.jupyter.widget-view+json": {
       "model_id": "2bd9b83a8db54e519c20f6461e83b376",
       "version_major": 2,
       "version_minor": 0
      },
      "text/plain": [
       "VBox(children=(HTML(value=''), Renderer(background='#cccc88', background_opacity=0.0, camera=PerspectiveCamera…"
      ]
     },
     "metadata": {},
     "output_type": "display_data"
    },
    {
     "data": {
      "application/vnd.jupyter.widget-view+json": {
       "model_id": "3e24d6951c0e4fa18657912cc78718e6",
       "version_major": 2,
       "version_minor": 0
      },
      "text/plain": [
       "VBox(children=(HTML(value=''), Renderer(background='#cccc88', background_opacity=0.0, camera=PerspectiveCamera…"
      ]
     },
     "metadata": {},
     "output_type": "display_data"
    },
    {
     "data": {
      "application/vnd.jupyter.widget-view+json": {
       "model_id": "ef5b6005cbc54c8fa3deb02c8f641d59",
       "version_major": 2,
       "version_minor": 0
      },
      "text/plain": [
       "VBox(children=(HTML(value=''), Renderer(background='#cccc88', background_opacity=0.0, camera=PerspectiveCamera…"
      ]
     },
     "metadata": {},
     "output_type": "display_data"
    },
    {
     "data": {
      "application/vnd.jupyter.widget-view+json": {
       "model_id": "7db69f88de87438180163d7227aa6b47",
       "version_major": 2,
       "version_minor": 0
      },
      "text/plain": [
       "VBox(children=(HTML(value=''), Renderer(background='#cccc88', background_opacity=0.0, camera=PerspectiveCamera…"
      ]
     },
     "metadata": {},
     "output_type": "display_data"
    },
    {
     "data": {
      "text/plain": [
       "'/home/flo/Repositories/keyboards/curly-enigma/case/plate_1.scad'"
      ]
     },
     "execution_count": 16,
     "metadata": {},
     "output_type": "execute_result"
    }
   ],
   "source": [
    "layouts = [\n",
    "    [[C4,1.5,0],[C4,1,0],[C5,1,-0.5],[C5,1,-0.375],[C5,1,-0.5],[C4,1,0.25],[C3_vert,1,0.25]], # ergo caps\n",
    "    [[C4,1,0],[C4,1,0],[C5,1,-0.5],[C5,1,-0.375],[C5,1,-0.5],[C4,1,0.25],[C2_OLED,1,0.25]] # ortho caps (+OLED)\n",
    "]\n",
    "angle = 12\n",
    "space_keys = [\n",
    "    1.5, # normal sizing\n",
    "    1.75 # 40% sizing\n",
    "]\n",
    "\n",
    "r.render(myPlate(layout=layouts[0],space_angle_degrees=12,space_units=space_keys[0]))\n",
    "r.render(myPlate(layout=layouts[0],space_angle_degrees=12,space_units=space_keys[1]))\n",
    "r.render(myPlate(layout=layouts[1],space_angle_degrees=12,space_units=space_keys[0]))\n",
    "r.render(myPlate(layout=layouts[1],space_angle_degrees=12,space_units=space_keys[1]))\n",
    "\n",
    "scad_render_to_file(myPlate(layout=layouts[0],space_angle_degrees=12,space_units=space_keys[0]), 'plate_0.scad')\n",
    "scad_render_to_file(myPlate(layout=layouts[0],space_angle_degrees=12,space_units=space_keys[1]), 'plate_1.scad')"
   ]
  },
  {
   "cell_type": "code",
   "execution_count": 9,
   "metadata": {},
   "outputs": [],
   "source": [
    "#  projection(d) # muss ich vlt doch in openscad machen"
   ]
  },
  {
   "cell_type": "code",
   "execution_count": 10,
   "metadata": {},
   "outputs": [
    {
     "data": {
      "text/plain": [
       "CompletedProcess(args=['openscad', '-o', 'plate.stl', 'plate.scad'], returncode=0)"
      ]
     },
     "execution_count": 10,
     "metadata": {},
     "output_type": "execute_result"
    }
   ],
   "source": [
    "# generate valid openscad code and store it in file\n",
    "scad_render_to_file(myPlate(layout=layouts[0],space_angle_degrees=12,space_units=space_keys[0]), 'plate.scad')\n",
    "\n",
    "# run openscad and export to stl\n",
    "run([\"openscad\", \"-o\",  \"plate.stl\", \"plate.scad\"])"
   ]
  },
  {
   "cell_type": "markdown",
   "metadata": {
    "tags": []
   },
   "source": [
    "I should have probably gone with a vectore based approach…"
   ]
  }
 ],
 "metadata": {
  "kernelspec": {
   "display_name": "Python 3",
   "language": "python",
   "name": "python3"
  },
  "language_info": {
   "codemirror_mode": {
    "name": "ipython",
    "version": 3
   },
   "file_extension": ".py",
   "mimetype": "text/x-python",
   "name": "python",
   "nbconvert_exporter": "python",
   "pygments_lexer": "ipython3",
   "version": "3.9.2"
  }
 },
 "nbformat": 4,
 "nbformat_minor": 4
}
