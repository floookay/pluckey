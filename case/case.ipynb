{
 "cells": [
  {
   "cell_type": "code",
   "execution_count": 105,
   "metadata": {},
   "outputs": [],
   "source": [
    "from solid import *\n",
    "from solid.utils import *\n",
    "\n",
    "from subprocess import run\n",
    "\n",
    "import viewscad\n",
    "r = viewscad.Renderer()"
   ]
  },
  {
   "cell_type": "code",
   "execution_count": 106,
   "metadata": {},
   "outputs": [
    {
     "name": "stdout",
     "output_type": "stream",
     "text": [
      "/home/flo/.local/lib/python3.9/site-packages/solid/examples\n"
     ]
    }
   ],
   "source": [
    "import os, solid; print(os.path.dirname(solid.__file__) + '/examples')"
   ]
  },
  {
   "cell_type": "code",
   "execution_count": 107,
   "metadata": {},
   "outputs": [
    {
     "data": {
      "application/vnd.jupyter.widget-view+json": {
       "model_id": "536f91a9753e440bacb198351164761f",
       "version_major": 2,
       "version_minor": 0
      },
      "text/plain": [
       "VBox(children=(HTML(value=''), Renderer(background='#cccc88', background_opacity=0.0, camera=PerspectiveCamera…"
      ]
     },
     "metadata": {},
     "output_type": "display_data"
    }
   ],
   "source": [
    "d = cube([7,4,4]) + sphere(5) - cylinder(r=2, h=6)\n",
    "r.render(d)"
   ]
  },
  {
   "cell_type": "code",
   "execution_count": 108,
   "metadata": {},
   "outputs": [],
   "source": [
    "# CONFIGURATION\n",
    "GENERATE_WITH_KEYCAPS = True"
   ]
  },
  {
   "cell_type": "code",
   "execution_count": 109,
   "metadata": {},
   "outputs": [
    {
     "data": {
      "application/vnd.jupyter.widget-view+json": {
       "model_id": "6da32d34414744f9901cb45a87aebdad",
       "version_major": 2,
       "version_minor": 0
      },
      "text/plain": [
       "VBox(children=(HTML(value=''), Renderer(background='#cccc88', background_opacity=0.0, camera=PerspectiveCamera…"
      ]
     },
     "metadata": {},
     "output_type": "display_data"
    }
   ],
   "source": [
    "KEYCAP_SIZE = 18\n",
    "KEYCAP_HEIGHT = 9\n",
    "KEYCAP_Z_OFFSET = 6.6\n",
    "\n",
    "PLATE_GRID = 19.05\n",
    "PLATE_HOLE = 14\n",
    "PLATE_THICKNESS = 4\n",
    "# PLATE_SPACER = SWITCH_GRID - PLATE_HOLE  # = 5.05mm\n",
    "\n",
    "def plate_cutout(units_x=1, units_y=1, withCap=False):\n",
    "    offset = units_x - 1;\n",
    "    plate = cube([PLATE_GRID*units_x,PLATE_GRID*units_y,PLATE_THICKNESS], center=True)\n",
    "    hole = cube([PLATE_HOLE,PLATE_HOLE,PLATE_THICKNESS+0.2], center=True)\n",
    "    cutout = plate - hole\n",
    "    \n",
    "    # TODO: if units_x or units_y >= 2: add stab holes\n",
    "\n",
    "    if(withCap):\n",
    "        cap = color([0.0,1.0,0.5])(cube([KEYCAP_SIZE*units_x,KEYCAP_SIZE*units_y,KEYCAP_HEIGHT], center=True))\n",
    "        cap = up(PLATE_THICKNESS/2 + KEYCAP_HEIGHT/2 + KEYCAP_Z_OFFSET)(cap)\n",
    "        cutout += cap\n",
    "    \n",
    "    return cutout\n",
    "\n",
    "r.render(plate_cutout(units_x=1, units_y=2, withCap=True))"
   ]
  },
  {
   "cell_type": "code",
   "execution_count": 110,
   "metadata": {},
   "outputs": [
    {
     "data": {
      "application/vnd.jupyter.widget-view+json": {
       "model_id": "d246561141264d77a5f6e6f0f0d3fae1",
       "version_major": 2,
       "version_minor": 0
      },
      "text/plain": [
       "VBox(children=(HTML(value=''), Renderer(background='#cccc88', background_opacity=0.0, camera=PerspectiveCamera…"
      ]
     },
     "metadata": {},
     "output_type": "display_data"
    }
   ],
   "source": [
    "# keys[units_y], units_x\n",
    "def plate_column(keys=[1,1,1,1], units_x=1):\n",
    "    i=0\n",
    "    offset=0\n",
    "    column = cube(0)\n",
    "    while(i<len(keys)):\n",
    "        units_y = keys[i]\n",
    "        cutout = plate_cutout(units_x=units_x, units_y=units_y, withCap=GENERATE_WITH_KEYCAPS)\n",
    "        cur_offset = (units_y-1)/2\n",
    "        column += forward(PLATE_GRID*(offset + cur_offset))(cutout)\n",
    "        offset += ((units_y+1)/2) + cur_offset\n",
    "        i += 1\n",
    "    \n",
    "    return column\n",
    "        \n",
    "r.render(plate_column(keys=[1,1,2,1], units_x=1))"
   ]
  },
  {
   "cell_type": "code",
   "execution_count": 115,
   "metadata": {},
   "outputs": [
    {
     "data": {
      "application/vnd.jupyter.widget-view+json": {
       "model_id": "1328862391374bb58ccf220fc4edc130",
       "version_major": 2,
       "version_minor": 0
      },
      "text/plain": [
       "VBox(children=(HTML(value=''), Renderer(background='#cccc88', background_opacity=0.0, camera=PerspectiveCamera…"
      ]
     },
     "metadata": {},
     "output_type": "display_data"
    }
   ],
   "source": [
    "# [column[keys[],units,y_offset_units]]\n",
    "# keep the y_offset_units in multiple or halfs of 1u -> for easier alignment in KiCAD later\n",
    "C4 = [1,1,1,1]\n",
    "C5 = [1,1,1,1,1]\n",
    "C3_vert = [1.5,1.5,1]\n",
    "\n",
    "layout = [[C4,1.5,0],[C4,1,0],[C5,1,-0.5],[C5,1,-0.5+0.125],[C5,1,-0.5],[C4,1,0.25],[C3_vert,1,0.25]]\n",
    "\n",
    "i = 0\n",
    "offset = 0\n",
    "plate = cube(0)\n",
    "while(i<len(layout)):\n",
    "    column_specs = layout[i]\n",
    "    column = plate_column(keys=column_specs[0],units_x=column_specs[1])\n",
    "    cur_offset = (column_specs[1]-1)/2\n",
    "    plate += right(PLATE_GRID*(offset+cur_offset))(forward(PLATE_GRID*column_specs[2])(column))\n",
    "    offset += ((column_specs[1]+1)/2) + cur_offset\n",
    "    i += 1\n",
    "\n",
    "    \n",
    "r.render(plate)"
   ]
  },
  {
   "cell_type": "code",
   "execution_count": 112,
   "metadata": {},
   "outputs": [
    {
     "data": {
      "image/png": "\n",
      "text/plain": [
       "<solid.objects.projection at 0x7f67729be310>"
      ]
     },
     "execution_count": 112,
     "metadata": {},
     "output_type": "execute_result"
    }
   ],
   "source": [
    "projection(d) # muss ich vlt doch in openscad machen"
   ]
  },
  {
   "cell_type": "code",
   "execution_count": 113,
   "metadata": {},
   "outputs": [
    {
     "data": {
      "text/plain": [
       "CompletedProcess(args=['openscad', '-o', 'plate.stl', 'plate.scad'], returncode=0)"
      ]
     },
     "execution_count": 113,
     "metadata": {},
     "output_type": "execute_result"
    }
   ],
   "source": [
    "# generate valid openscad code and store it in file\n",
    "scad_render_to_file(plate, 'plate.scad')\n",
    "\n",
    "# run openscad and export to stl\n",
    "run([\"openscad\", \"-o\",  \"plate.stl\", \"plate.scad\"])"
   ]
  },
  {
   "cell_type": "code",
   "execution_count": null,
   "metadata": {},
   "outputs": [],
   "source": []
  }
 ],
 "metadata": {
  "kernelspec": {
   "display_name": "Python 3",
   "language": "python",
   "name": "python3"
  },
  "language_info": {
   "codemirror_mode": {
    "name": "ipython",
    "version": 3
   },
   "file_extension": ".py",
   "mimetype": "text/x-python",
   "name": "python",
   "nbconvert_exporter": "python",
   "pygments_lexer": "ipython3",
   "version": "3.9.2"
  }
 },
 "nbformat": 4,
 "nbformat_minor": 4
}
